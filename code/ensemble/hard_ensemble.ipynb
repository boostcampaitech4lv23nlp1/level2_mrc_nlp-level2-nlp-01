{
 "cells": [
  {
   "cell_type": "code",
   "execution_count": 16,
   "metadata": {},
   "outputs": [],
   "source": [
    "import os\n",
    "import itertools\n",
    "import pandas as pd\n",
    "\n",
    "from collections import defaultdict, Counter"
   ]
  },
  {
   "cell_type": "code",
   "execution_count": 19,
   "metadata": {},
   "outputs": [],
   "source": [
    "target_dirs = ['./61.25', './62.92', './60.00']"
   ]
  },
  {
   "cell_type": "code",
   "execution_count": 20,
   "metadata": {},
   "outputs": [],
   "source": [
    "mrc_dict = defaultdict(list)\n",
    "for directory in target_dirs:\n",
    "    p = pd.read_json(os.path.join(directory, 'predictions.json'), orient='records', typ='series')\n",
    "    for key, pred in p.items():\n",
    "        mrc_dict[key].append(pred)\n",
    "\n",
    "pred_dict = {}\n",
    "for id, candidate in mrc_dict.items():\n",
    "    pred = Counter(candidate).most_common(1)[0][0]\n",
    "    pred_dict[id] = pred\n",
    "output = pd.Series(pred_dict)\n",
    "\n",
    "with open('./hard_ensemble.json', 'w+', encoding='utf-8') as f:\n",
    "    output.to_json(f, force_ascii=False)\n"
   ]
  },
  {
   "cell_type": "code",
   "execution_count": null,
   "metadata": {},
   "outputs": [],
   "source": []
  }
 ],
 "metadata": {
  "kernelspec": {
   "display_name": "venv",
   "language": "python",
   "name": "python3"
  },
  "language_info": {
   "codemirror_mode": {
    "name": "ipython",
    "version": 3
   },
   "file_extension": ".py",
   "mimetype": "text/x-python",
   "name": "python",
   "nbconvert_exporter": "python",
   "pygments_lexer": "ipython3",
   "version": "3.9.15"
  },
  "orig_nbformat": 4,
  "vscode": {
   "interpreter": {
    "hash": "32a8364db00a9e68e5c8e22cc79d25af8936d6712be5591fb98cb64878b5af15"
   }
  }
 },
 "nbformat": 4,
 "nbformat_minor": 2
}

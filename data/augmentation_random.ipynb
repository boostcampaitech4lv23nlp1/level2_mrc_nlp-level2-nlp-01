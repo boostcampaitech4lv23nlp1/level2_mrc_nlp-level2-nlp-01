{
 "cells": [
  {
   "attachments": {},
   "cell_type": "markdown",
   "metadata": {},
   "source": [
    "# Data Augmentation\n",
    "Train data에서 Context 문장을 random shuffle 해서 answer의 index 위치를 변경하는 방법으로 Augmentation 진행"
   ]
  },
  {
   "cell_type": "code",
   "execution_count": 2,
   "metadata": {},
   "outputs": [],
   "source": [
    "import random\n",
    "import pandas as pd \n",
    "from datasets import load_from_disk"
   ]
  },
  {
   "cell_type": "code",
   "execution_count": 3,
   "metadata": {},
   "outputs": [
    {
     "name": "stderr",
     "output_type": "stream",
     "text": [
      "/opt/conda/lib/python3.8/site-packages/datasets/dataset_dict.py:1241: FutureWarning: 'fs' was is deprecated in favor of 'storage_options' in version 2.8.0 and will be removed in 3.0.0.\n",
      "You can remove this warning by passing 'storage_options=fs.storage_options' instead.\n",
      "  warnings.warn(\n"
     ]
    }
   ],
   "source": [
    "# dataset\n",
    "dataset = load_from_disk(\"../data/train_dataset/\")\n",
    "\n",
    "train_dataset = pd.DataFrame(dataset['train'])\n",
    "val_dataset = pd.DataFrame(dataset['validation'])"
   ]
  },
  {
   "cell_type": "code",
   "execution_count": 84,
   "metadata": {},
   "outputs": [
    {
     "data": {
      "text/html": [
       "<div>\n",
       "<style scoped>\n",
       "    .dataframe tbody tr th:only-of-type {\n",
       "        vertical-align: middle;\n",
       "    }\n",
       "\n",
       "    .dataframe tbody tr th {\n",
       "        vertical-align: top;\n",
       "    }\n",
       "\n",
       "    .dataframe thead th {\n",
       "        text-align: right;\n",
       "    }\n",
       "</style>\n",
       "<table border=\"1\" class=\"dataframe\">\n",
       "  <thead>\n",
       "    <tr style=\"text-align: right;\">\n",
       "      <th></th>\n",
       "      <th>title</th>\n",
       "      <th>context</th>\n",
       "      <th>question</th>\n",
       "      <th>id</th>\n",
       "      <th>answers</th>\n",
       "      <th>document_id</th>\n",
       "      <th>__index_level_0__</th>\n",
       "    </tr>\n",
       "  </thead>\n",
       "  <tbody>\n",
       "    <tr>\n",
       "      <th>0</th>\n",
       "      <td>미국 상원</td>\n",
       "      <td>미국 상의원 또는 미국 상원(United States Senate)은 양원제인 미국...</td>\n",
       "      <td>대통령을 포함한 미국의 행정부 견제권을 갖는 국가 기관은?</td>\n",
       "      <td>mrc-1-000067</td>\n",
       "      <td>{'answer_start': [235], 'text': ['하원']}</td>\n",
       "      <td>18293</td>\n",
       "      <td>42</td>\n",
       "    </tr>\n",
       "    <tr>\n",
       "      <th>1</th>\n",
       "      <td>인사조직관리</td>\n",
       "      <td>'근대적 경영학' 또는 '고전적 경영학'에서 현대적 경영학으로 전환되는 시기는 19...</td>\n",
       "      <td>현대적 인사조직관리의 시발점이 된 책은?</td>\n",
       "      <td>mrc-0-004397</td>\n",
       "      <td>{'answer_start': [212], 'text': ['《경영의 실제》']}</td>\n",
       "      <td>51638</td>\n",
       "      <td>2873</td>\n",
       "    </tr>\n",
       "    <tr>\n",
       "      <th>2</th>\n",
       "      <td>강희제</td>\n",
       "      <td>강희제는 강화된 황권으로 거의 황제 중심의 독단적으로 나라를 이끌어 갔기에 자칫 전...</td>\n",
       "      <td>강희제가 1717년에 쓴 글은 누구를 위해 쓰여졌는가?</td>\n",
       "      <td>mrc-1-000362</td>\n",
       "      <td>{'answer_start': [510], 'text': ['백성']}</td>\n",
       "      <td>5028</td>\n",
       "      <td>230</td>\n",
       "    </tr>\n",
       "    <tr>\n",
       "      <th>3</th>\n",
       "      <td>금동삼존불감</td>\n",
       "      <td>불상을 모시기 위해 나무나 돌, 쇠 등을 깎아 일반적인 건축물보다 작은 규모로 만든...</td>\n",
       "      <td>11~12세기에 제작된 본존불은 보통 어떤 나라의 특징이 전파되었나요?</td>\n",
       "      <td>mrc-0-001510</td>\n",
       "      <td>{'answer_start': [625], 'text': ['중국']}</td>\n",
       "      <td>34146</td>\n",
       "      <td>992</td>\n",
       "    </tr>\n",
       "    <tr>\n",
       "      <th>4</th>\n",
       "      <td>계사명 사리구</td>\n",
       "      <td>동아대학교박물관에서 소장하고 있는 계사명 사리구는 총 4개의 용기로 구성된 조선후기...</td>\n",
       "      <td>명문이 적힌 유물을 구성하는 그릇의 총 개수는?</td>\n",
       "      <td>mrc-0-000823</td>\n",
       "      <td>{'answer_start': [30], 'text': ['4개']}</td>\n",
       "      <td>47334</td>\n",
       "      <td>548</td>\n",
       "    </tr>\n",
       "  </tbody>\n",
       "</table>\n",
       "</div>"
      ],
      "text/plain": [
       "     title                                            context  \\\n",
       "0    미국 상원  미국 상의원 또는 미국 상원(United States Senate)은 양원제인 미국...   \n",
       "1   인사조직관리  '근대적 경영학' 또는 '고전적 경영학'에서 현대적 경영학으로 전환되는 시기는 19...   \n",
       "2      강희제  강희제는 강화된 황권으로 거의 황제 중심의 독단적으로 나라를 이끌어 갔기에 자칫 전...   \n",
       "3   금동삼존불감  불상을 모시기 위해 나무나 돌, 쇠 등을 깎아 일반적인 건축물보다 작은 규모로 만든...   \n",
       "4  계사명 사리구  동아대학교박물관에서 소장하고 있는 계사명 사리구는 총 4개의 용기로 구성된 조선후기...   \n",
       "\n",
       "                                  question            id  \\\n",
       "0         대통령을 포함한 미국의 행정부 견제권을 갖는 국가 기관은?  mrc-1-000067   \n",
       "1                   현대적 인사조직관리의 시발점이 된 책은?  mrc-0-004397   \n",
       "2           강희제가 1717년에 쓴 글은 누구를 위해 쓰여졌는가?  mrc-1-000362   \n",
       "3  11~12세기에 제작된 본존불은 보통 어떤 나라의 특징이 전파되었나요?  mrc-0-001510   \n",
       "4               명문이 적힌 유물을 구성하는 그릇의 총 개수는?  mrc-0-000823   \n",
       "\n",
       "                                         answers  document_id  \\\n",
       "0        {'answer_start': [235], 'text': ['하원']}        18293   \n",
       "1  {'answer_start': [212], 'text': ['《경영의 실제》']}        51638   \n",
       "2        {'answer_start': [510], 'text': ['백성']}         5028   \n",
       "3        {'answer_start': [625], 'text': ['중국']}        34146   \n",
       "4         {'answer_start': [30], 'text': ['4개']}        47334   \n",
       "\n",
       "   __index_level_0__  \n",
       "0                 42  \n",
       "1               2873  \n",
       "2                230  \n",
       "3                992  \n",
       "4                548  "
      ]
     },
     "execution_count": 84,
     "metadata": {},
     "output_type": "execute_result"
    }
   ],
   "source": [
    "train_dataset.head()"
   ]
  },
  {
   "cell_type": "code",
   "execution_count": 4,
   "metadata": {},
   "outputs": [],
   "source": [
    "# answers 데이터 분리\n",
    "answer_start, text = [], []\n",
    "\n",
    "for i in range(len(train_dataset)):\n",
    "    df = train_dataset.iloc[i]\n",
    "    answer_start.append(df['answers']['answer_start'][0])\n",
    "    answer = df['answers']['text'][0]\n",
    "    text.append(answer)\n",
    "\n",
    "\n",
    "train_df = pd.DataFrame({'title': train_dataset['title'], \n",
    "                        'context' : train_dataset['context'], \n",
    "                        'question': train_dataset['question'], \n",
    "                        'id': train_dataset['id'],\n",
    "                        'answer': text,\n",
    "                        'answer_start': answer_start, \n",
    "                        'document_id': train_dataset['document_id'], \n",
    "                        '__index_level_0__': train_dataset['__index_level_0__'],})"
   ]
  },
  {
   "cell_type": "code",
   "execution_count": 5,
   "metadata": {},
   "outputs": [],
   "source": [
    "# context 데이터 섞기, 인덱스 변경\n",
    "new_context = []\n",
    "new_start_index = []\n",
    "new_answer = [] # {'answer_start': [235], 'text': ['하원']}\t\n",
    "\n",
    "for i in range(len(train_df)):\n",
    "    add_context = train_df.iloc[i].context[:train_df.iloc[i].answer_start] + '#' + train_df.iloc[i].context[train_df.iloc[i].answer_start:]\n",
    "    lst = add_context.split('.')\n",
    "    random.shuffle(lst)\n",
    "    random.shuffle(lst)\n",
    "\n",
    "    random_context = '. '.join(lst)\n",
    "    num = random_context.index('#')\n",
    "    random_context = random_context.replace('#', '')\n",
    "\n",
    "    new_context.append(random_context)\n",
    "    new_start_index.append(num)\n",
    "    new_answer.append({'answer_start': [num], 'text': [train_df.iloc[i].answer]})"
   ]
  },
  {
   "cell_type": "code",
   "execution_count": 6,
   "metadata": {},
   "outputs": [
    {
     "data": {
      "text/html": [
       "<div>\n",
       "<style scoped>\n",
       "    .dataframe tbody tr th:only-of-type {\n",
       "        vertical-align: middle;\n",
       "    }\n",
       "\n",
       "    .dataframe tbody tr th {\n",
       "        vertical-align: top;\n",
       "    }\n",
       "\n",
       "    .dataframe thead th {\n",
       "        text-align: right;\n",
       "    }\n",
       "</style>\n",
       "<table border=\"1\" class=\"dataframe\">\n",
       "  <thead>\n",
       "    <tr style=\"text-align: right;\">\n",
       "      <th></th>\n",
       "      <th>title</th>\n",
       "      <th>context</th>\n",
       "      <th>question</th>\n",
       "      <th>id</th>\n",
       "      <th>answers</th>\n",
       "      <th>document_id</th>\n",
       "      <th>__index_level_0__</th>\n",
       "    </tr>\n",
       "  </thead>\n",
       "  <tbody>\n",
       "    <tr>\n",
       "      <th>0</th>\n",
       "      <td>미국 상원</td>\n",
       "      <td>이 경우처럼 상원은 하원이나 내각책임제가 빠지기 쉬운 국가들의 국회처럼 걸핏하면 ...</td>\n",
       "      <td>대통령을 포함한 미국의 행정부 견제권을 갖는 국가 기관은?</td>\n",
       "      <td>mrc-1-000067</td>\n",
       "      <td>{'answer_start': [554], 'text': ['하원']}</td>\n",
       "      <td>18293</td>\n",
       "      <td>42</td>\n",
       "    </tr>\n",
       "    <tr>\n",
       "      <th>1</th>\n",
       "      <td>인사조직관리</td>\n",
       "      <td>25전쟁의 시기로 유럽은 전후 재건에 집중하고, 유럽 제국주의의 식민지가 독립하여 ...</td>\n",
       "      <td>현대적 인사조직관리의 시발점이 된 책은?</td>\n",
       "      <td>mrc-0-004397</td>\n",
       "      <td>{'answer_start': [355], 'text': ['《경영의 실제》']}</td>\n",
       "      <td>51638</td>\n",
       "      <td>2873</td>\n",
       "    </tr>\n",
       "    <tr>\n",
       "      <th>2</th>\n",
       "      <td>강희제</td>\n",
       "      <td>”라고 후대의 황제에게도 이를 훈계하였다.  그럼에도 황제인 그의 생활용품들은 사치...</td>\n",
       "      <td>강희제가 1717년에 쓴 글은 누구를 위해 쓰여졌는가?</td>\n",
       "      <td>mrc-1-000362</td>\n",
       "      <td>{'answer_start': [122], 'text': ['백성']}</td>\n",
       "      <td>5028</td>\n",
       "      <td>230</td>\n",
       "    </tr>\n",
       "    <tr>\n",
       "      <th>3</th>\n",
       "      <td>금동삼존불감</td>\n",
       "      <td>불상을 모시기 위해 나무나 돌, 쇠 등을 깎아 일반적인 건축물보다 작은 규모로 만든...</td>\n",
       "      <td>11~12세기에 제작된 본존불은 보통 어떤 나라의 특징이 전파되었나요?</td>\n",
       "      <td>mrc-0-001510</td>\n",
       "      <td>{'answer_start': [558], 'text': ['중국']}</td>\n",
       "      <td>34146</td>\n",
       "      <td>992</td>\n",
       "    </tr>\n",
       "    <tr>\n",
       "      <th>4</th>\n",
       "      <td>계사명 사리구</td>\n",
       "      <td>\\n\\n동아대학교박물관의 계사명 사리구는 정확한 제작연대는 알 수 없지만 명문 등을...</td>\n",
       "      <td>명문이 적힌 유물을 구성하는 그릇의 총 개수는?</td>\n",
       "      <td>mrc-0-000823</td>\n",
       "      <td>{'answer_start': [169], 'text': ['4개']}</td>\n",
       "      <td>47334</td>\n",
       "      <td>548</td>\n",
       "    </tr>\n",
       "    <tr>\n",
       "      <th>...</th>\n",
       "      <td>...</td>\n",
       "      <td>...</td>\n",
       "      <td>...</td>\n",
       "      <td>...</td>\n",
       "      <td>...</td>\n",
       "      <td>...</td>\n",
       "      <td>...</td>\n",
       "    </tr>\n",
       "    <tr>\n",
       "      <th>3947</th>\n",
       "      <td>이오 (위성)</td>\n",
       "      <td>) 지질구조상으로 정형화된 윤곽이 특별히 없이 고립된 구조처럼 보이는데 이는 지구의...</td>\n",
       "      <td>대부분의 이오의 산이 형성되는데 영향을 끼친 것은?</td>\n",
       "      <td>mrc-0-005285</td>\n",
       "      <td>{'answer_start': [962], 'text': ['지질 구조']}</td>\n",
       "      <td>8275</td>\n",
       "      <td>3445</td>\n",
       "    </tr>\n",
       "    <tr>\n",
       "      <th>3948</th>\n",
       "      <td>내니 다이어리</td>\n",
       "      <td>애니의 고군분투 뉴욕 입성기!!\\n\\n인류학자가 꿈인 21살 소녀 '애니(스칼렛 요...</td>\n",
       "      <td>애니는 어디서 태어났는가?</td>\n",
       "      <td>mrc-1-000699</td>\n",
       "      <td>{'answer_start': [482], 'text': ['뉴저지']}</td>\n",
       "      <td>37764</td>\n",
       "      <td>450</td>\n",
       "    </tr>\n",
       "    <tr>\n",
       "      <th>3949</th>\n",
       "      <td>빈 필하모니 관현악단</td>\n",
       "      <td>1920년대부터는 잘츠부르크 축제의 상주 관현악단으로도 참가하기 시작해 지금까지 ...</td>\n",
       "      <td>1854년에 니콜라이의 뒤를 이어 상임 지휘자로서 활동한 인물은?</td>\n",
       "      <td>mrc-0-003429</td>\n",
       "      <td>{'answer_start': [1143], 'text': ['칼 에케르트']}</td>\n",
       "      <td>12730</td>\n",
       "      <td>2252</td>\n",
       "    </tr>\n",
       "    <tr>\n",
       "      <th>3950</th>\n",
       "      <td>드래곤</td>\n",
       "      <td>영국에서는 성 게오르기우스의 상징으로 십자가가 더해진 그림으로 표현된다. \\n\\n...</td>\n",
       "      <td>드래곤의 암수 구분이 있는 신화는?</td>\n",
       "      <td>mrc-0-003956</td>\n",
       "      <td>{'answer_start': [643], 'text': ['슬라브 신화']}</td>\n",
       "      <td>10924</td>\n",
       "      <td>2595</td>\n",
       "    </tr>\n",
       "    <tr>\n",
       "      <th>3951</th>\n",
       "      <td>2011년 함부르크 주의회 선거</td>\n",
       "      <td>2008년 2월 28일 실시된 2008년 함부르크 주의회 선거에서 기민련은 과반수 ...</td>\n",
       "      <td>올레 폰 보이스트 이후에 시장으로 임명된 사람은 누구인가?</td>\n",
       "      <td>mrc-0-003589</td>\n",
       "      <td>{'answer_start': [342], 'text': ['크리스토포 알하우스']}</td>\n",
       "      <td>27803</td>\n",
       "      <td>2354</td>\n",
       "    </tr>\n",
       "  </tbody>\n",
       "</table>\n",
       "<p>3952 rows × 7 columns</p>\n",
       "</div>"
      ],
      "text/plain": [
       "                  title                                            context  \\\n",
       "0                 미국 상원   이 경우처럼 상원은 하원이나 내각책임제가 빠지기 쉬운 국가들의 국회처럼 걸핏하면 ...   \n",
       "1                인사조직관리  25전쟁의 시기로 유럽은 전후 재건에 집중하고, 유럽 제국주의의 식민지가 독립하여 ...   \n",
       "2                   강희제  ”라고 후대의 황제에게도 이를 훈계하였다.  그럼에도 황제인 그의 생활용품들은 사치...   \n",
       "3                금동삼존불감  불상을 모시기 위해 나무나 돌, 쇠 등을 깎아 일반적인 건축물보다 작은 규모로 만든...   \n",
       "4               계사명 사리구  \\n\\n동아대학교박물관의 계사명 사리구는 정확한 제작연대는 알 수 없지만 명문 등을...   \n",
       "...                 ...                                                ...   \n",
       "3947            이오 (위성)  ) 지질구조상으로 정형화된 윤곽이 특별히 없이 고립된 구조처럼 보이는데 이는 지구의...   \n",
       "3948            내니 다이어리  애니의 고군분투 뉴욕 입성기!!\\n\\n인류학자가 꿈인 21살 소녀 '애니(스칼렛 요...   \n",
       "3949        빈 필하모니 관현악단   1920년대부터는 잘츠부르크 축제의 상주 관현악단으로도 참가하기 시작해 지금까지 ...   \n",
       "3950                드래곤   영국에서는 성 게오르기우스의 상징으로 십자가가 더해진 그림으로 표현된다. \\n\\n...   \n",
       "3951  2011년 함부르크 주의회 선거  2008년 2월 28일 실시된 2008년 함부르크 주의회 선거에서 기민련은 과반수 ...   \n",
       "\n",
       "                                     question            id  \\\n",
       "0            대통령을 포함한 미국의 행정부 견제권을 갖는 국가 기관은?  mrc-1-000067   \n",
       "1                      현대적 인사조직관리의 시발점이 된 책은?  mrc-0-004397   \n",
       "2              강희제가 1717년에 쓴 글은 누구를 위해 쓰여졌는가?  mrc-1-000362   \n",
       "3     11~12세기에 제작된 본존불은 보통 어떤 나라의 특징이 전파되었나요?  mrc-0-001510   \n",
       "4                  명문이 적힌 유물을 구성하는 그릇의 총 개수는?  mrc-0-000823   \n",
       "...                                       ...           ...   \n",
       "3947             대부분의 이오의 산이 형성되는데 영향을 끼친 것은?  mrc-0-005285   \n",
       "3948                           애니는 어디서 태어났는가?  mrc-1-000699   \n",
       "3949     1854년에 니콜라이의 뒤를 이어 상임 지휘자로서 활동한 인물은?  mrc-0-003429   \n",
       "3950                      드래곤의 암수 구분이 있는 신화는?  mrc-0-003956   \n",
       "3951         올레 폰 보이스트 이후에 시장으로 임명된 사람은 누구인가?  mrc-0-003589   \n",
       "\n",
       "                                              answers  document_id  \\\n",
       "0             {'answer_start': [554], 'text': ['하원']}        18293   \n",
       "1       {'answer_start': [355], 'text': ['《경영의 실제》']}        51638   \n",
       "2             {'answer_start': [122], 'text': ['백성']}         5028   \n",
       "3             {'answer_start': [558], 'text': ['중국']}        34146   \n",
       "4             {'answer_start': [169], 'text': ['4개']}        47334   \n",
       "...                                               ...          ...   \n",
       "3947       {'answer_start': [962], 'text': ['지질 구조']}         8275   \n",
       "3948         {'answer_start': [482], 'text': ['뉴저지']}        37764   \n",
       "3949     {'answer_start': [1143], 'text': ['칼 에케르트']}        12730   \n",
       "3950      {'answer_start': [643], 'text': ['슬라브 신화']}        10924   \n",
       "3951  {'answer_start': [342], 'text': ['크리스토포 알하우스']}        27803   \n",
       "\n",
       "      __index_level_0__  \n",
       "0                    42  \n",
       "1                  2873  \n",
       "2                   230  \n",
       "3                   992  \n",
       "4                   548  \n",
       "...                 ...  \n",
       "3947               3445  \n",
       "3948                450  \n",
       "3949               2252  \n",
       "3950               2595  \n",
       "3951               2354  \n",
       "\n",
       "[3952 rows x 7 columns]"
      ]
     },
     "execution_count": 6,
     "metadata": {},
     "output_type": "execute_result"
    }
   ],
   "source": [
    "new_train_df = pd.DataFrame({'title': train_df['title'],\n",
    "                            'context': new_context,\n",
    "                            'question': train_df['question'],\n",
    "                            'id': train_df['id'],\n",
    "                            'answers': new_answer,\n",
    "                            'document_id': train_df['document_id'],\n",
    "                            '__index_level_0__': train_df['__index_level_0__'],})\n",
    "new_train_df"
   ]
  },
  {
   "cell_type": "code",
   "execution_count": 7,
   "metadata": {},
   "outputs": [],
   "source": [
    "before = pd.read_csv('train_dataset_shuffle.csv')"
   ]
  },
  {
   "cell_type": "code",
   "execution_count": 8,
   "metadata": {},
   "outputs": [],
   "source": [
    "new_train_dataset = pd.concat([train_dataset, before, new_train_df])"
   ]
  },
  {
   "cell_type": "code",
   "execution_count": 102,
   "metadata": {},
   "outputs": [
    {
     "name": "stdout",
     "output_type": "stream",
     "text": [
      "augmentation BEFORE train dataset count: 3952\n",
      "augmentation AFTER train dataset count: 3952\n",
      "augmentation train dataset TOTAL: 7904\n"
     ]
    }
   ],
   "source": [
    "print(f'augmentation BEFORE train dataset count: {len(train_dataset)}')\n",
    "print(f'augmentation AFTER train dataset count: {len(new_train_df)}')\n",
    "print(f'augmentation train dataset TOTAL: {len(new_train_dataset)}') # shuffle 데이터 1"
   ]
  },
  {
   "cell_type": "code",
   "execution_count": 9,
   "metadata": {},
   "outputs": [
    {
     "name": "stdout",
     "output_type": "stream",
     "text": [
      "augmentation train dataset TOTAL: 15808\n"
     ]
    }
   ],
   "source": [
    "print(f'augmentation train dataset TOTAL: {len(new_train_dataset)}') ## shuffle 데이터 2"
   ]
  },
  {
   "cell_type": "code",
   "execution_count": 11,
   "metadata": {},
   "outputs": [],
   "source": [
    "new_train_dataset.to_csv('train_dataset_random_aug.csv', index=False)"
   ]
  },
  {
   "attachments": {},
   "cell_type": "markdown",
   "metadata": {},
   "source": [
    "## ETC.\n",
    "새로 만든 데이터셋의 `answers` 타입이 `dict`가 아니라 `str` 형태로 불러와져서 `train.py`에서 오류 발생\n",
    "```python\n",
    "from ast import literal_eval\n",
    "\n",
    "answers = literal_eval(answers) # train.py 160번째줄 추가\n",
    "```     \n",
    "위 방법으로 해결"
   ]
  },
  {
   "attachments": {},
   "cell_type": "markdown",
   "metadata": {},
   "source": [
    "# Result."
   ]
  },
  {
   "attachments": {},
   "cell_type": "markdown",
   "metadata": {},
   "source": [
    "### baseline result =>     EM: 34.1700   F1: 47.4100\n",
    "\n",
    "1. shuffle data 3,952 + train data 3,952 = total 7,904\n",
    "\n",
    "    제출결과 ⇒ EM: 32.9200   F1: 43.7200\n",
    "\n",
    "2. shuffle data 11,856 + train data 3,952 = total 15,808\n",
    "\n",
    "    제출결과 ⇒ EM: 32.9200   F1: 43.7200\n"
   ]
  },
  {
   "attachments": {},
   "cell_type": "markdown",
   "metadata": {},
   "source": [
    "👉 baseline 대비 점수가 떨어짐 -> answer의 위치가 변경되는 것이 성능에 영향을 주지 않는다는 것을 알 수 있음 \n",
    "\n",
    "👉 데이터 양을 3배로 늘려서 실험해보았을 때도 차이가 나타나지않았기 때문에 같은 데이터 안에서 변경하는것은 큰 의미가 없다는 것을 확인 할 수 있었음. "
   ]
  }
 ],
 "metadata": {
  "kernelspec": {
   "display_name": "base",
   "language": "python",
   "name": "python3"
  },
  "language_info": {
   "codemirror_mode": {
    "name": "ipython",
    "version": 3
   },
   "file_extension": ".py",
   "mimetype": "text/x-python",
   "name": "python",
   "nbconvert_exporter": "python",
   "pygments_lexer": "ipython3",
   "version": "3.8.15 (default, Nov 24 2022, 15:19:38) \n[GCC 11.2.0]"
  },
  "orig_nbformat": 4,
  "vscode": {
   "interpreter": {
    "hash": "d4d1e4263499bec80672ea0156c357c1ee493ec2b1c70f0acce89fc37c4a6abe"
   }
  }
 },
 "nbformat": 4,
 "nbformat_minor": 2
}

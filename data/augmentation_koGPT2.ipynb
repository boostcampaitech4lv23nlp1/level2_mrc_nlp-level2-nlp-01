{
 "cells": [
  {
   "attachments": {},
   "cell_type": "markdown",
   "metadata": {},
   "source": [
    "# koGPT2 for Question Generation"
   ]
  },
  {
   "cell_type": "code",
   "execution_count": 1,
   "metadata": {},
   "outputs": [
    {
     "name": "stdout",
     "output_type": "stream",
     "text": [
      "/opt/conda/lib/python3.8/runpy.py:127: RuntimeWarning: 'nltk.downloader' found in sys.modules after import of package 'nltk', but prior to execution of 'nltk.downloader'; this may result in unpredictable behaviour\n",
      "  warn(RuntimeWarning(msg))\n",
      "[nltk_data] Downloading package punkt to /opt/ml/nltk_data...\n",
      "[nltk_data]   Unzipping tokenizers/punkt.zip.\n"
     ]
    }
   ],
   "source": [
    "# !python -m nltk.downloader punkt"
   ]
  },
  {
   "cell_type": "code",
   "execution_count": 2,
   "metadata": {},
   "outputs": [
    {
     "name": "stdout",
     "output_type": "stream",
     "text": [
      "Cloning into 'KorQuAD-Question-Generation'...\n",
      "remote: Enumerating objects: 125, done.\u001b[K\n",
      "remote: Counting objects: 100% (125/125), done.\u001b[K\n",
      "remote: Compressing objects: 100% (72/72), done.\u001b[K\n",
      "remote: Total 125 (delta 54), reused 105 (delta 39), pack-reused 0\u001b[K\n",
      "Receiving objects: 100% (125/125), 926.44 KiB | 1.54 MiB/s, done.\n",
      "Resolving deltas: 100% (54/54), done.\n"
     ]
    }
   ],
   "source": [
    "# !git clone https://github.com/codertimo/KorQuAD-Question-Generation.git"
   ]
  },
  {
   "cell_type": "code",
   "execution_count": 3,
   "metadata": {},
   "outputs": [],
   "source": [
    "# !mv KorQuAD-Question-Generation QG"
   ]
  },
  {
   "cell_type": "code",
   "execution_count": 4,
   "metadata": {},
   "outputs": [
    {
     "name": "stdout",
     "output_type": "stream",
     "text": [
      "/opt/ml/input/data/QG\n"
     ]
    }
   ],
   "source": [
    "%cd QG"
   ]
  },
  {
   "cell_type": "code",
   "execution_count": 9,
   "metadata": {},
   "outputs": [],
   "source": [
    "import random\n",
    "from argparse import ArgumentParser\n",
    "\n",
    "import pandas as pd\n",
    "import torch\n",
    "from tokenizers import SentencePieceBPETokenizer\n",
    "from torch.utils.data import DataLoader\n",
    "from tqdm import tqdm\n",
    "from transformers import GPT2LMHeadModel\n",
    "\n",
    "from korquad_qg.config import QGConfig\n",
    "from korquad_qg.dataset import MAX_QUESTION_SPACE, MIN_QUESTION_SPACE, QGDataset, QGDecodingDataset, load_korquad_dataset"
   ]
  },
  {
   "cell_type": "code",
   "execution_count": 6,
   "metadata": {},
   "outputs": [],
   "source": [
    "config = QGConfig()"
   ]
  },
  {
   "cell_type": "code",
   "execution_count": 32,
   "metadata": {},
   "outputs": [],
   "source": [
    "MODEL_PATH = \"/opt/ml/input/data/QG/QG_kogpt2.pth\""
   ]
  },
  {
   "cell_type": "code",
   "execution_count": 38,
   "metadata": {},
   "outputs": [],
   "source": [
    "model = GPT2LMHeadModel.from_pretrained(\"taeminlee/kogpt2\")\n",
    "model.load_state_dict(torch.load('/opt/ml/input/data/QG/QG_kogpt2.pth', map_location=\"cpu\"))\n",
    "device = torch.device(\"cuda:0\" if torch.cuda.is_available() else \"cpu\")"
   ]
  },
  {
   "cell_type": "code",
   "execution_count": 31,
   "metadata": {},
   "outputs": [],
   "source": [
    "tokenizer = SentencePieceBPETokenizer.from_file(\n",
    "    vocab_filename=\"tokenizer/vocab.json\", merges_filename=\"tokenizer/merges.txt\", add_prefix_space=False\n",
    ")"
   ]
  },
  {
   "attachments": {},
   "cell_type": "markdown",
   "metadata": {},
   "source": [
    "## 1. 데이터 준비"
   ]
  },
  {
   "cell_type": "code",
   "execution_count": 109,
   "metadata": {},
   "outputs": [],
   "source": [
    "import pandas as pd\n",
    "from ast import literal_eval\n",
    "\n",
    "ke_data = pd.read_csv('/opt/ml/input/data/KEdata_for_generation_v2.csv')\n",
    "ke_data['answers'] = ke_data['answers'].map(literal_eval)"
   ]
  },
  {
   "cell_type": "code",
   "execution_count": 110,
   "metadata": {},
   "outputs": [
    {
     "data": {
      "text/plain": [
       "3883"
      ]
     },
     "execution_count": 110,
     "metadata": {},
     "output_type": "execute_result"
    }
   ],
   "source": [
    "len(ke_data)"
   ]
  },
  {
   "cell_type": "code",
   "execution_count": 44,
   "metadata": {},
   "outputs": [],
   "source": [
    "def split_answers(dataset):\n",
    "    answer_start, text = [], []\n",
    "\n",
    "    for i in range(len(dataset)):\n",
    "        df = dataset.iloc[i]\n",
    "        answer_start.append(df['answers']['answer_start'][0])\n",
    "        answer = df['answers']['text'][0]\n",
    "        text.append(answer)\n",
    "\n",
    "\n",
    "    new_dataset = pd.DataFrame({'title': dataset['title'], \n",
    "                            'context' : dataset['context'], \n",
    "                            'question': dataset['question'], \n",
    "                            'id': dataset['id'],\n",
    "                            'answer': text,\n",
    "                            'answer_start': answer_start, \n",
    "                            'document_id': dataset['document_id'], \n",
    "                            '__index_level_0__': dataset['__index_level_0__'],})\n",
    "    \n",
    "    return new_dataset"
   ]
  },
  {
   "cell_type": "code",
   "execution_count": 111,
   "metadata": {},
   "outputs": [
    {
     "data": {
      "text/html": [
       "<div>\n",
       "<style scoped>\n",
       "    .dataframe tbody tr th:only-of-type {\n",
       "        vertical-align: middle;\n",
       "    }\n",
       "\n",
       "    .dataframe tbody tr th {\n",
       "        vertical-align: top;\n",
       "    }\n",
       "\n",
       "    .dataframe thead th {\n",
       "        text-align: right;\n",
       "    }\n",
       "</style>\n",
       "<table border=\"1\" class=\"dataframe\">\n",
       "  <thead>\n",
       "    <tr style=\"text-align: right;\">\n",
       "      <th></th>\n",
       "      <th>title</th>\n",
       "      <th>context</th>\n",
       "      <th>question</th>\n",
       "      <th>id</th>\n",
       "      <th>answer</th>\n",
       "      <th>answer_start</th>\n",
       "      <th>document_id</th>\n",
       "      <th>__index_level_0__</th>\n",
       "    </tr>\n",
       "  </thead>\n",
       "  <tbody>\n",
       "    <tr>\n",
       "      <th>0</th>\n",
       "      <td>미국 상원</td>\n",
       "      <td>미국 상의원 또는 미국 상원(United States Senate)은 양원제인 미국...</td>\n",
       "      <td>NaN</td>\n",
       "      <td>mrc-1-003954</td>\n",
       "      <td>공무원</td>\n",
       "      <td>268</td>\n",
       "      <td>18293</td>\n",
       "      <td>3954</td>\n",
       "    </tr>\n",
       "    <tr>\n",
       "      <th>1</th>\n",
       "      <td>계사명 사리구</td>\n",
       "      <td>동아대학교박물관에서 소장하고 있는 계사명 사리구는 총 4개의 용기로 구성된 조선후기...</td>\n",
       "      <td>NaN</td>\n",
       "      <td>mrc-1-003955</td>\n",
       "      <td>웅촌면</td>\n",
       "      <td>62</td>\n",
       "      <td>47334</td>\n",
       "      <td>3955</td>\n",
       "    </tr>\n",
       "    <tr>\n",
       "      <th>2</th>\n",
       "      <td>계사명 사리구</td>\n",
       "      <td>동아대학교박물관에서 소장하고 있는 계사명 사리구는 총 4개의 용기로 구성된 조선후기...</td>\n",
       "      <td>NaN</td>\n",
       "      <td>mrc-1-003956</td>\n",
       "      <td>울주군</td>\n",
       "      <td>58</td>\n",
       "      <td>47334</td>\n",
       "      <td>3956</td>\n",
       "    </tr>\n",
       "  </tbody>\n",
       "</table>\n",
       "</div>"
      ],
      "text/plain": [
       "     title                                            context  question  \\\n",
       "0    미국 상원  미국 상의원 또는 미국 상원(United States Senate)은 양원제인 미국...       NaN   \n",
       "1  계사명 사리구  동아대학교박물관에서 소장하고 있는 계사명 사리구는 총 4개의 용기로 구성된 조선후기...       NaN   \n",
       "2  계사명 사리구  동아대학교박물관에서 소장하고 있는 계사명 사리구는 총 4개의 용기로 구성된 조선후기...       NaN   \n",
       "\n",
       "             id answer  answer_start  document_id  __index_level_0__  \n",
       "0  mrc-1-003954    공무원           268        18293               3954  \n",
       "1  mrc-1-003955    웅촌면            62        47334               3955  \n",
       "2  mrc-1-003956    울주군            58        47334               3956  "
      ]
     },
     "execution_count": 111,
     "metadata": {},
     "output_type": "execute_result"
    }
   ],
   "source": [
    "ke_data = split_answers(ke_data)\n",
    "ke_data.head(3)"
   ]
  },
  {
   "cell_type": "code",
   "execution_count": 22,
   "metadata": {},
   "outputs": [],
   "source": [
    "from typing import NamedTuple, Optional\n",
    "class QAExample(NamedTuple):\n",
    "    context: str\n",
    "    answer: str\n",
    "    question: Optional[str] = None"
   ]
  },
  {
   "cell_type": "code",
   "execution_count": 112,
   "metadata": {},
   "outputs": [],
   "source": [
    "examples_list = []\n",
    "cnt=0\n",
    "for idx in range(len(ke_data)):\n",
    "    text = ke_data[\"context\"][idx]\n",
    "    title = ke_data[\"answer\"][idx]\n",
    "    document_id = idx\n",
    "\n",
    "    example = QAExample(text, title)\n",
    "    tmp = [example,document_id]\n",
    "    examples_list.append(tmp)"
   ]
  },
  {
   "cell_type": "code",
   "execution_count": 114,
   "metadata": {},
   "outputs": [],
   "source": [
    "examples=[]\n",
    "d_id=[]\n",
    "for i in examples_list:\n",
    "    examples.append(i[0])\n",
    "    d_id.append(i[1])"
   ]
  },
  {
   "cell_type": "code",
   "execution_count": 115,
   "metadata": {},
   "outputs": [
    {
     "data": {
      "text/plain": [
       "[QAExample(context='미국 상의원 또는 미국 상원(United States Senate)은 양원제인 미국 의회의 상원이다.\\\\n\\\\n미국 부통령이 상원의장이 된다. 각 주당 2명의 상원의원이 선출되어 100명의 상원의원으로 구성되어 있다. 임기는 6년이며, 2년마다 50개주 중 1/3씩 상원의원을 새로 선출하여 연방에 보낸다.\\\\n\\\\n미국 상원은 미국 하원과는 다르게 미국 대통령을 수반으로 하는 미국 연방 행정부에 각종 동의를 하는 기관이다. 하원이 세금과 경제에 대한 권한, 대통령을 포함한 대다수의 공무원을 파면할 권한을 갖고 있는 국민을 대표하는 기관인 반면 상원은 미국의 주를 대표한다. 즉 캘리포니아주, 일리노이주 같이 주 정부와 주 의회를 대표하는 기관이다. 그로 인하여 군대의 파병, 관료의 임명에 대한 동의, 외국 조약에 대한 승인 등 신속을 요하는 권한은 모두 상원에게만 있다. 그리고 하원에 대한 견제 역할(하원의 법안을 거부할 권한 등)을 담당한다. 2년의 임기로 인하여 급진적일 수밖에 없는 하원은 지나치게 급진적인 법안을 만들기 쉽다. 대표적인 예로 건강보험 개혁 당시 하원이 미국 연방 행정부에게 퍼블릭 옵션(공공건강보험기관)의 조항이 있는 반면 상원의 경우 하원안이 지나치게 세금이 많이 든다는 이유로 퍼블릭 옵션 조항을 제외하고 비영리건강보험기관이나 보험회사가 담당하도록 한 것이다. 이 경우처럼 상원은 하원이나 내각책임제가 빠지기 쉬운 국가들의 국회처럼 걸핏하면 발생하는 의회의 비정상적인 사태를 방지하는 기관이다. 상원은 급박한 처리사항의 경우가 아니면 법안을 먼저 내는 경우가 드물고 하원이 만든 법안을 수정하여 다시 하원에 되돌려보낸다. 이러한 방식으로 단원제가 빠지기 쉬운 함정을 미리 방지하는 것이다.날짜=2017-02-05', answer='공무원', question=None),\n",
       " QAExample(context='동아대학교박물관에서 소장하고 있는 계사명 사리구는 총 4개의 용기로 구성된 조선후기의 유물로, 경상남도 울주군 웅촌면 대복리에서 출토되었다고 전한다. 외함(外函)은 청화명문이 있는 백자이며, 그 안쪽에 납작한 금속제 원형 합 2점과 금속제 원통형 합 등 3점의 그릇이 봉안되어 있다.\\\\n\\\\n바깥쪽의 외함인 백자 합 동체 중앙부 표면에 청화안료로 쓴 “癸巳二月日 施主承表 兩主”라는 명문이 세로로 세 줄에 걸쳐서 쓰여 있어 조선 후기인 계사년에 시주자인 승표 부부가 발원하여 만든 것임을 알 수 있다.\\\\n\\\\n동아대학교박물관의 계사명 사리구는 정확한 제작연대는 알 수 없지만 명문 등을 통해 적어도 17세기 이후에 제작된 것으로 추정되는 작품으로, 명문이 있는 조선 후기 경상도 지역 출토 사리장엄구라는 점에서 중요한 가치를 지닌 작품으로 판단된다.\\\\n\\\\n조선 후기 사리장엄구는 아직까지 조사와 연구가 거의 이루어지지 않았으나, 이처럼 세트를 갖추어 출토된 유물은 비교적 드문 편임을 고려할 때, 이 계사명 사리장엄구는 제작연대와 발원자의 이름이 밝혀져 있으며, 지금까지 출토된 예가 드문 비교적 완전한 세트를 가진 유물이라는 점에서 조선 후기 사리장엄구 연구에 자료적 가치를 지닌 유물이다.', answer='웅촌면', question=None),\n",
       " QAExample(context='동아대학교박물관에서 소장하고 있는 계사명 사리구는 총 4개의 용기로 구성된 조선후기의 유물로, 경상남도 울주군 웅촌면 대복리에서 출토되었다고 전한다. 외함(外函)은 청화명문이 있는 백자이며, 그 안쪽에 납작한 금속제 원형 합 2점과 금속제 원통형 합 등 3점의 그릇이 봉안되어 있다.\\\\n\\\\n바깥쪽의 외함인 백자 합 동체 중앙부 표면에 청화안료로 쓴 “癸巳二月日 施主承表 兩主”라는 명문이 세로로 세 줄에 걸쳐서 쓰여 있어 조선 후기인 계사년에 시주자인 승표 부부가 발원하여 만든 것임을 알 수 있다.\\\\n\\\\n동아대학교박물관의 계사명 사리구는 정확한 제작연대는 알 수 없지만 명문 등을 통해 적어도 17세기 이후에 제작된 것으로 추정되는 작품으로, 명문이 있는 조선 후기 경상도 지역 출토 사리장엄구라는 점에서 중요한 가치를 지닌 작품으로 판단된다.\\\\n\\\\n조선 후기 사리장엄구는 아직까지 조사와 연구가 거의 이루어지지 않았으나, 이처럼 세트를 갖추어 출토된 유물은 비교적 드문 편임을 고려할 때, 이 계사명 사리장엄구는 제작연대와 발원자의 이름이 밝혀져 있으며, 지금까지 출토된 예가 드문 비교적 완전한 세트를 가진 유물이라는 점에서 조선 후기 사리장엄구 연구에 자료적 가치를 지닌 유물이다.', answer='울주군', question=None)]"
      ]
     },
     "execution_count": 115,
     "metadata": {},
     "output_type": "execute_result"
    }
   ],
   "source": [
    "examples[:3]"
   ]
  },
  {
   "cell_type": "code",
   "execution_count": 116,
   "metadata": {},
   "outputs": [],
   "source": [
    "dataset = QGDecodingDataset(examples, tokenizer, 512)\n",
    "dataloader = DataLoader(dataset, batch_size=1)"
   ]
  },
  {
   "cell_type": "code",
   "execution_count": null,
   "metadata": {},
   "outputs": [],
   "source": [
    "model = model.to(device)\n",
    "model.eval()"
   ]
  },
  {
   "attachments": {},
   "cell_type": "markdown",
   "metadata": {},
   "source": [
    "## 2. Generate"
   ]
  },
  {
   "cell_type": "code",
   "execution_count": 119,
   "metadata": {},
   "outputs": [
    {
     "name": "stderr",
     "output_type": "stream",
     "text": [
      "generate: 100%|██████████| 3883/3883 [46:00<00:00,  1.41it/s]\n"
     ]
    }
   ],
   "source": [
    "generated_results = []\n",
    "\n",
    "for i, batch in tqdm(enumerate(dataloader), desc=\"generate\", total=len(dataloader)):\n",
    "    input_ids, attention_mask = (v.to(device) for v in batch)\n",
    "    origin_seq_len = input_ids.size(-1)\n",
    "\n",
    "    decoded_sequences = model.generate(\n",
    "        input_ids=input_ids,\n",
    "        attention_mask=attention_mask,\n",
    "        max_length=origin_seq_len + MAX_QUESTION_SPACE,\n",
    "        min_length=origin_seq_len + MIN_QUESTION_SPACE,\n",
    "        pad_token_id=0,\n",
    "        bos_token_id=1,\n",
    "        eos_token_id=2,\n",
    "        num_beams=5,\n",
    "        repetition_penalty=1.3,\n",
    "        no_repeat_ngram_size=3,\n",
    "        num_return_sequences=1,\n",
    "    )\n",
    "\n",
    "    for decoded_tokens in decoded_sequences.tolist():\n",
    "        decoded_question_text = tokenizer.decode(decoded_tokens[origin_seq_len:])\n",
    "        decoded_question_text = decoded_question_text.split(\"</s>\")[0].replace(\"<s>\", \"\")\n",
    "        generated_results.append(\n",
    "            (i, examples[i].answer, examples[i].question, decoded_question_text, d_id[i])\n",
    "        )"
   ]
  },
  {
   "cell_type": "code",
   "execution_count": 120,
   "metadata": {},
   "outputs": [],
   "source": [
    "generated_df = pd.DataFrame(generated_results)\n",
    "generated_df.columns = ['idx', 'answer', 'question', 'text', 'd_id']\n",
    "generated_df.to_csv('generation_data_v2.csv', index=False)"
   ]
  },
  {
   "cell_type": "code",
   "execution_count": 121,
   "metadata": {},
   "outputs": [
    {
     "data": {
      "text/plain": [
       "3883"
      ]
     },
     "execution_count": 121,
     "metadata": {},
     "output_type": "execute_result"
    }
   ],
   "source": [
    "len(generated_df)"
   ]
  },
  {
   "cell_type": "code",
   "execution_count": 54,
   "metadata": {},
   "outputs": [
    {
     "data": {
      "text/html": [
       "<div>\n",
       "<style scoped>\n",
       "    .dataframe tbody tr th:only-of-type {\n",
       "        vertical-align: middle;\n",
       "    }\n",
       "\n",
       "    .dataframe tbody tr th {\n",
       "        vertical-align: top;\n",
       "    }\n",
       "\n",
       "    .dataframe thead th {\n",
       "        text-align: right;\n",
       "    }\n",
       "</style>\n",
       "<table border=\"1\" class=\"dataframe\">\n",
       "  <thead>\n",
       "    <tr style=\"text-align: right;\">\n",
       "      <th></th>\n",
       "      <th>idx</th>\n",
       "      <th>answer</th>\n",
       "      <th>question</th>\n",
       "      <th>text</th>\n",
       "      <th>d_id</th>\n",
       "    </tr>\n",
       "  </thead>\n",
       "  <tbody>\n",
       "    <tr>\n",
       "      <th>count</th>\n",
       "      <td>23718.000000</td>\n",
       "      <td>23718</td>\n",
       "      <td>0</td>\n",
       "      <td>23718</td>\n",
       "      <td>23718.000000</td>\n",
       "    </tr>\n",
       "    <tr>\n",
       "      <th>unique</th>\n",
       "      <td>NaN</td>\n",
       "      <td>9842</td>\n",
       "      <td>0</td>\n",
       "      <td>18133</td>\n",
       "      <td>NaN</td>\n",
       "    </tr>\n",
       "    <tr>\n",
       "      <th>top</th>\n",
       "      <td>NaN</td>\n",
       "      <td>상태</td>\n",
       "      <td>NaN</td>\n",
       "      <td>나카모리 아키나는 누구인가?</td>\n",
       "      <td>NaN</td>\n",
       "    </tr>\n",
       "    <tr>\n",
       "      <th>freq</th>\n",
       "      <td>NaN</td>\n",
       "      <td>176</td>\n",
       "      <td>NaN</td>\n",
       "      <td>15</td>\n",
       "      <td>NaN</td>\n",
       "    </tr>\n",
       "    <tr>\n",
       "      <th>mean</th>\n",
       "      <td>11858.500000</td>\n",
       "      <td>NaN</td>\n",
       "      <td>NaN</td>\n",
       "      <td>NaN</td>\n",
       "      <td>11858.500000</td>\n",
       "    </tr>\n",
       "    <tr>\n",
       "      <th>std</th>\n",
       "      <td>6846.941178</td>\n",
       "      <td>NaN</td>\n",
       "      <td>NaN</td>\n",
       "      <td>NaN</td>\n",
       "      <td>6846.941178</td>\n",
       "    </tr>\n",
       "    <tr>\n",
       "      <th>min</th>\n",
       "      <td>0.000000</td>\n",
       "      <td>NaN</td>\n",
       "      <td>NaN</td>\n",
       "      <td>NaN</td>\n",
       "      <td>0.000000</td>\n",
       "    </tr>\n",
       "    <tr>\n",
       "      <th>25%</th>\n",
       "      <td>5929.250000</td>\n",
       "      <td>NaN</td>\n",
       "      <td>NaN</td>\n",
       "      <td>NaN</td>\n",
       "      <td>5929.250000</td>\n",
       "    </tr>\n",
       "    <tr>\n",
       "      <th>50%</th>\n",
       "      <td>11858.500000</td>\n",
       "      <td>NaN</td>\n",
       "      <td>NaN</td>\n",
       "      <td>NaN</td>\n",
       "      <td>11858.500000</td>\n",
       "    </tr>\n",
       "    <tr>\n",
       "      <th>75%</th>\n",
       "      <td>17787.750000</td>\n",
       "      <td>NaN</td>\n",
       "      <td>NaN</td>\n",
       "      <td>NaN</td>\n",
       "      <td>17787.750000</td>\n",
       "    </tr>\n",
       "    <tr>\n",
       "      <th>max</th>\n",
       "      <td>23717.000000</td>\n",
       "      <td>NaN</td>\n",
       "      <td>NaN</td>\n",
       "      <td>NaN</td>\n",
       "      <td>23717.000000</td>\n",
       "    </tr>\n",
       "  </tbody>\n",
       "</table>\n",
       "</div>"
      ],
      "text/plain": [
       "                 idx answer question             text          d_id\n",
       "count   23718.000000  23718        0            23718  23718.000000\n",
       "unique           NaN   9842        0            18133           NaN\n",
       "top              NaN     상태      NaN  나카모리 아키나는 누구인가?           NaN\n",
       "freq             NaN    176      NaN               15           NaN\n",
       "mean    11858.500000    NaN      NaN              NaN  11858.500000\n",
       "std      6846.941178    NaN      NaN              NaN   6846.941178\n",
       "min         0.000000    NaN      NaN              NaN      0.000000\n",
       "25%      5929.250000    NaN      NaN              NaN   5929.250000\n",
       "50%     11858.500000    NaN      NaN              NaN  11858.500000\n",
       "75%     17787.750000    NaN      NaN              NaN  17787.750000\n",
       "max     23717.000000    NaN      NaN              NaN  23717.000000"
      ]
     },
     "execution_count": 54,
     "metadata": {},
     "output_type": "execute_result"
    }
   ],
   "source": [
    "generated_df.describe(include='all')"
   ]
  },
  {
   "cell_type": "code",
   "execution_count": 122,
   "metadata": {},
   "outputs": [
    {
     "data": {
      "text/html": [
       "<div>\n",
       "<style scoped>\n",
       "    .dataframe tbody tr th:only-of-type {\n",
       "        vertical-align: middle;\n",
       "    }\n",
       "\n",
       "    .dataframe tbody tr th {\n",
       "        vertical-align: top;\n",
       "    }\n",
       "\n",
       "    .dataframe thead th {\n",
       "        text-align: right;\n",
       "    }\n",
       "</style>\n",
       "<table border=\"1\" class=\"dataframe\">\n",
       "  <thead>\n",
       "    <tr style=\"text-align: right;\">\n",
       "      <th></th>\n",
       "      <th>idx</th>\n",
       "      <th>answer</th>\n",
       "      <th>question</th>\n",
       "      <th>text</th>\n",
       "      <th>d_id</th>\n",
       "    </tr>\n",
       "  </thead>\n",
       "  <tbody>\n",
       "    <tr>\n",
       "      <th>2</th>\n",
       "      <td>2</td>\n",
       "      <td>울주군</td>\n",
       "      <td>None</td>\n",
       "      <td>계사명 사리가 출토된 곳은?</td>\n",
       "      <td>2</td>\n",
       "    </tr>\n",
       "    <tr>\n",
       "      <th>7</th>\n",
       "      <td>7</td>\n",
       "      <td>조선말</td>\n",
       "      <td>None</td>\n",
       "      <td>고려 공민왕의 모후산은 어디인가?</td>\n",
       "      <td>7</td>\n",
       "    </tr>\n",
       "    <tr>\n",
       "      <th>9</th>\n",
       "      <td>9</td>\n",
       "      <td>전라남도</td>\n",
       "      <td>None</td>\n",
       "      <td>고려 공민왕의 모후산은 어디인가?</td>\n",
       "      <td>9</td>\n",
       "    </tr>\n",
       "    <tr>\n",
       "      <th>24</th>\n",
       "      <td>24</td>\n",
       "      <td>라파엘로</td>\n",
       "      <td>None</td>\n",
       "      <td>이탈리아 르네상스의 중요한 인물은?</td>\n",
       "      <td>24</td>\n",
       "    </tr>\n",
       "    <tr>\n",
       "      <th>48</th>\n",
       "      <td>48</td>\n",
       "      <td>이조좌랑</td>\n",
       "      <td>None</td>\n",
       "      <td>이괄이 즉위한 후 명문의 자제로 경연시독관이 된 사람은 누구인가?</td>\n",
       "      <td>48</td>\n",
       "    </tr>\n",
       "    <tr>\n",
       "      <th>...</th>\n",
       "      <td>...</td>\n",
       "      <td>...</td>\n",
       "      <td>...</td>\n",
       "      <td>...</td>\n",
       "      <td>...</td>\n",
       "    </tr>\n",
       "    <tr>\n",
       "      <th>3878</th>\n",
       "      <td>3878</td>\n",
       "      <td>작곡가</td>\n",
       "      <td>None</td>\n",
       "      <td>오토 니콜라이의 지휘자는 누구인가?</td>\n",
       "      <td>3878</td>\n",
       "    </tr>\n",
       "    <tr>\n",
       "      <th>3879</th>\n",
       "      <td>3879</td>\n",
       "      <td>드라고넷</td>\n",
       "      <td>None</td>\n",
       "      <td>고대 그리스에서 악마를 뜻하는 단어는?</td>\n",
       "      <td>3879</td>\n",
       "    </tr>\n",
       "    <tr>\n",
       "      <th>3880</th>\n",
       "      <td>3880</td>\n",
       "      <td>게오르기우스</td>\n",
       "      <td>None</td>\n",
       "      <td>그리스어에서 악마를 뜻하는 단어는 무엇인가?</td>\n",
       "      <td>3880</td>\n",
       "    </tr>\n",
       "    <tr>\n",
       "      <th>3881</th>\n",
       "      <td>3881</td>\n",
       "      <td>주도하</td>\n",
       "      <td>None</td>\n",
       "      <td>기민련, 녹색당 연정은 무엇의 연정인가?</td>\n",
       "      <td>3881</td>\n",
       "    </tr>\n",
       "    <tr>\n",
       "      <th>3882</th>\n",
       "      <td>3882</td>\n",
       "      <td>하우스</td>\n",
       "      <td>None</td>\n",
       "      <td>기민련을 이끈 사람은 누구인가?</td>\n",
       "      <td>3882</td>\n",
       "    </tr>\n",
       "  </tbody>\n",
       "</table>\n",
       "<p>798 rows × 5 columns</p>\n",
       "</div>"
      ],
      "text/plain": [
       "       idx  answer question                                  text  d_id\n",
       "2        2     울주군     None                       계사명 사리가 출토된 곳은?     2\n",
       "7        7     조선말     None                    고려 공민왕의 모후산은 어디인가?     7\n",
       "9        9    전라남도     None                    고려 공민왕의 모후산은 어디인가?     9\n",
       "24      24    라파엘로     None                   이탈리아 르네상스의 중요한 인물은?    24\n",
       "48      48    이조좌랑     None  이괄이 즉위한 후 명문의 자제로 경연시독관이 된 사람은 누구인가?    48\n",
       "...    ...     ...      ...                                   ...   ...\n",
       "3878  3878     작곡가     None                   오토 니콜라이의 지휘자는 누구인가?  3878\n",
       "3879  3879    드라고넷     None                 고대 그리스에서 악마를 뜻하는 단어는?  3879\n",
       "3880  3880  게오르기우스     None              그리스어에서 악마를 뜻하는 단어는 무엇인가?  3880\n",
       "3881  3881     주도하     None                기민련, 녹색당 연정은 무엇의 연정인가?  3881\n",
       "3882  3882     하우스     None                     기민련을 이끈 사람은 누구인가?  3882\n",
       "\n",
       "[798 rows x 5 columns]"
      ]
     },
     "execution_count": 122,
     "metadata": {},
     "output_type": "execute_result"
    }
   ],
   "source": [
    "generated_df[generated_df['text'].duplicated()==True]"
   ]
  },
  {
   "attachments": {},
   "cell_type": "markdown",
   "metadata": {},
   "source": [
    "## 3. Train data 합치기"
   ]
  },
  {
   "cell_type": "code",
   "execution_count": 62,
   "metadata": {},
   "outputs": [
    {
     "name": "stdout",
     "output_type": "stream",
     "text": [
      "/opt/ml/input/data\n"
     ]
    }
   ],
   "source": [
    "%cd .."
   ]
  },
  {
   "cell_type": "code",
   "execution_count": 73,
   "metadata": {},
   "outputs": [
    {
     "name": "stderr",
     "output_type": "stream",
     "text": [
      "/opt/conda/lib/python3.8/site-packages/datasets/dataset_dict.py:1241: FutureWarning: 'fs' was is deprecated in favor of 'storage_options' in version 2.8.0 and will be removed in 3.0.0.\n",
      "You can remove this warning by passing 'storage_options=fs.storage_options' instead.\n",
      "  warnings.warn(\n"
     ]
    }
   ],
   "source": [
    "from datasets import load_dataset, load_from_disk\n",
    "\n",
    "# dataset = load_dataset(\"csv\", data_files={\"train\":\"../data/train_dataset_random_aug.csv\", \"validation\" : \"../data/validation_dataset.csv\"})\n",
    "dataset = load_from_disk(\"../data/train_dataset/\")\n",
    "\n",
    "train_dataset = pd.DataFrame(dataset['train'])\n",
    "val_dataset = pd.DataFrame(dataset['validation'])"
   ]
  },
  {
   "cell_type": "code",
   "execution_count": 123,
   "metadata": {},
   "outputs": [
    {
     "data": {
      "text/html": [
       "<div>\n",
       "<style scoped>\n",
       "    .dataframe tbody tr th:only-of-type {\n",
       "        vertical-align: middle;\n",
       "    }\n",
       "\n",
       "    .dataframe tbody tr th {\n",
       "        vertical-align: top;\n",
       "    }\n",
       "\n",
       "    .dataframe thead th {\n",
       "        text-align: right;\n",
       "    }\n",
       "</style>\n",
       "<table border=\"1\" class=\"dataframe\">\n",
       "  <thead>\n",
       "    <tr style=\"text-align: right;\">\n",
       "      <th></th>\n",
       "      <th>title</th>\n",
       "      <th>context</th>\n",
       "      <th>question</th>\n",
       "      <th>id</th>\n",
       "      <th>answers</th>\n",
       "      <th>document_id</th>\n",
       "      <th>__index_level_0__</th>\n",
       "    </tr>\n",
       "  </thead>\n",
       "  <tbody>\n",
       "    <tr>\n",
       "      <th>0</th>\n",
       "      <td>미국 상원</td>\n",
       "      <td>미국 상의원 또는 미국 상원(United States Senate)은 양원제인 미국...</td>\n",
       "      <td>대통령을 포함한 미국의 행정부 견제권을 갖는 국가 기관은?</td>\n",
       "      <td>mrc-1-000067</td>\n",
       "      <td>{'answer_start': [235], 'text': ['하원']}</td>\n",
       "      <td>18293</td>\n",
       "      <td>42</td>\n",
       "    </tr>\n",
       "    <tr>\n",
       "      <th>1</th>\n",
       "      <td>인사조직관리</td>\n",
       "      <td>'근대적 경영학' 또는 '고전적 경영학'에서 현대적 경영학으로 전환되는 시기는 19...</td>\n",
       "      <td>현대적 인사조직관리의 시발점이 된 책은?</td>\n",
       "      <td>mrc-0-004397</td>\n",
       "      <td>{'answer_start': [212], 'text': ['《경영의 실제》']}</td>\n",
       "      <td>51638</td>\n",
       "      <td>2873</td>\n",
       "    </tr>\n",
       "    <tr>\n",
       "      <th>2</th>\n",
       "      <td>강희제</td>\n",
       "      <td>강희제는 강화된 황권으로 거의 황제 중심의 독단적으로 나라를 이끌어 갔기에 자칫 전...</td>\n",
       "      <td>강희제가 1717년에 쓴 글은 누구를 위해 쓰여졌는가?</td>\n",
       "      <td>mrc-1-000362</td>\n",
       "      <td>{'answer_start': [510], 'text': ['백성']}</td>\n",
       "      <td>5028</td>\n",
       "      <td>230</td>\n",
       "    </tr>\n",
       "    <tr>\n",
       "      <th>3</th>\n",
       "      <td>금동삼존불감</td>\n",
       "      <td>불상을 모시기 위해 나무나 돌, 쇠 등을 깎아 일반적인 건축물보다 작은 규모로 만든...</td>\n",
       "      <td>11~12세기에 제작된 본존불은 보통 어떤 나라의 특징이 전파되었나요?</td>\n",
       "      <td>mrc-0-001510</td>\n",
       "      <td>{'answer_start': [625], 'text': ['중국']}</td>\n",
       "      <td>34146</td>\n",
       "      <td>992</td>\n",
       "    </tr>\n",
       "    <tr>\n",
       "      <th>4</th>\n",
       "      <td>계사명 사리구</td>\n",
       "      <td>동아대학교박물관에서 소장하고 있는 계사명 사리구는 총 4개의 용기로 구성된 조선후기...</td>\n",
       "      <td>명문이 적힌 유물을 구성하는 그릇의 총 개수는?</td>\n",
       "      <td>mrc-0-000823</td>\n",
       "      <td>{'answer_start': [30], 'text': ['4개']}</td>\n",
       "      <td>47334</td>\n",
       "      <td>548</td>\n",
       "    </tr>\n",
       "  </tbody>\n",
       "</table>\n",
       "</div>"
      ],
      "text/plain": [
       "     title                                            context  \\\n",
       "0    미국 상원  미국 상의원 또는 미국 상원(United States Senate)은 양원제인 미국...   \n",
       "1   인사조직관리  '근대적 경영학' 또는 '고전적 경영학'에서 현대적 경영학으로 전환되는 시기는 19...   \n",
       "2      강희제  강희제는 강화된 황권으로 거의 황제 중심의 독단적으로 나라를 이끌어 갔기에 자칫 전...   \n",
       "3   금동삼존불감  불상을 모시기 위해 나무나 돌, 쇠 등을 깎아 일반적인 건축물보다 작은 규모로 만든...   \n",
       "4  계사명 사리구  동아대학교박물관에서 소장하고 있는 계사명 사리구는 총 4개의 용기로 구성된 조선후기...   \n",
       "\n",
       "                                  question            id  \\\n",
       "0         대통령을 포함한 미국의 행정부 견제권을 갖는 국가 기관은?  mrc-1-000067   \n",
       "1                   현대적 인사조직관리의 시발점이 된 책은?  mrc-0-004397   \n",
       "2           강희제가 1717년에 쓴 글은 누구를 위해 쓰여졌는가?  mrc-1-000362   \n",
       "3  11~12세기에 제작된 본존불은 보통 어떤 나라의 특징이 전파되었나요?  mrc-0-001510   \n",
       "4               명문이 적힌 유물을 구성하는 그릇의 총 개수는?  mrc-0-000823   \n",
       "\n",
       "                                         answers  document_id  \\\n",
       "0        {'answer_start': [235], 'text': ['하원']}        18293   \n",
       "1  {'answer_start': [212], 'text': ['《경영의 실제》']}        51638   \n",
       "2        {'answer_start': [510], 'text': ['백성']}         5028   \n",
       "3        {'answer_start': [625], 'text': ['중국']}        34146   \n",
       "4         {'answer_start': [30], 'text': ['4개']}        47334   \n",
       "\n",
       "   __index_level_0__  \n",
       "0                 42  \n",
       "1               2873  \n",
       "2                230  \n",
       "3                992  \n",
       "4                548  "
      ]
     },
     "execution_count": 123,
     "metadata": {},
     "output_type": "execute_result"
    }
   ],
   "source": [
    "train_dataset.head()"
   ]
  },
  {
   "cell_type": "code",
   "execution_count": 126,
   "metadata": {},
   "outputs": [],
   "source": [
    "new_answers = []\n",
    "for idx in range(len(ke_data)):\n",
    "    new_answers.append({'answer_start': [ke_data.answer_start[idx]], 'text': [ke_data.answer[idx]]})"
   ]
  },
  {
   "cell_type": "code",
   "execution_count": 127,
   "metadata": {},
   "outputs": [],
   "source": [
    "new_dataset = pd.DataFrame({'title': ke_data['title'], \n",
    "                            'context' : ke_data['context'], \n",
    "                            'question': generated_df['text'], \n",
    "                            'id': ke_data['id'],\n",
    "                            'answers': new_answers,\n",
    "                            'document_id': ke_data['document_id'], \n",
    "                            '__index_level_0__': ke_data['__index_level_0__'],})"
   ]
  },
  {
   "cell_type": "code",
   "execution_count": 128,
   "metadata": {},
   "outputs": [
    {
     "data": {
      "text/html": [
       "<div>\n",
       "<style scoped>\n",
       "    .dataframe tbody tr th:only-of-type {\n",
       "        vertical-align: middle;\n",
       "    }\n",
       "\n",
       "    .dataframe tbody tr th {\n",
       "        vertical-align: top;\n",
       "    }\n",
       "\n",
       "    .dataframe thead th {\n",
       "        text-align: right;\n",
       "    }\n",
       "</style>\n",
       "<table border=\"1\" class=\"dataframe\">\n",
       "  <thead>\n",
       "    <tr style=\"text-align: right;\">\n",
       "      <th></th>\n",
       "      <th>title</th>\n",
       "      <th>context</th>\n",
       "      <th>question</th>\n",
       "      <th>id</th>\n",
       "      <th>answers</th>\n",
       "      <th>document_id</th>\n",
       "      <th>__index_level_0__</th>\n",
       "    </tr>\n",
       "  </thead>\n",
       "  <tbody>\n",
       "    <tr>\n",
       "      <th>0</th>\n",
       "      <td>미국 상원</td>\n",
       "      <td>미국 상의원 또는 미국 상원(United States Senate)은 양원제인 미국...</td>\n",
       "      <td>상원의원은 무엇을 파면할 권한이 있는가?</td>\n",
       "      <td>mrc-1-003954</td>\n",
       "      <td>{'answer_start': [268], 'text': ['공무원']}</td>\n",
       "      <td>18293</td>\n",
       "      <td>3954</td>\n",
       "    </tr>\n",
       "    <tr>\n",
       "      <th>1</th>\n",
       "      <td>계사명 사리구</td>\n",
       "      <td>동아대학교박물관에서 소장하고 있는 계사명 사리구는 총 4개의 용기로 구성된 조선후기...</td>\n",
       "      <td>계사명 사리가 출토된 곳은?</td>\n",
       "      <td>mrc-1-003955</td>\n",
       "      <td>{'answer_start': [62], 'text': ['웅촌면']}</td>\n",
       "      <td>47334</td>\n",
       "      <td>3955</td>\n",
       "    </tr>\n",
       "    <tr>\n",
       "      <th>2</th>\n",
       "      <td>계사명 사리구</td>\n",
       "      <td>동아대학교박물관에서 소장하고 있는 계사명 사리구는 총 4개의 용기로 구성된 조선후기...</td>\n",
       "      <td>계사명 사리가 출토된 곳은?</td>\n",
       "      <td>mrc-1-003956</td>\n",
       "      <td>{'answer_start': [58], 'text': ['울주군']}</td>\n",
       "      <td>47334</td>\n",
       "      <td>3956</td>\n",
       "    </tr>\n",
       "    <tr>\n",
       "      <th>3</th>\n",
       "      <td>오싱</td>\n",
       "      <td>하지만 슬픈 일들이 그녀의 행복을 질시하고 있었다.\\n평생 고생만 한 어머니를 백혈...</td>\n",
       "      <td>1950년대 필리핀에서 사망한 큰아들의 이름은 무엇인가?</td>\n",
       "      <td>mrc-1-003957</td>\n",
       "      <td>{'answer_start': [64], 'text': ['가가야']}</td>\n",
       "      <td>10426</td>\n",
       "      <td>3957</td>\n",
       "    </tr>\n",
       "    <tr>\n",
       "      <th>4</th>\n",
       "      <td>오싱</td>\n",
       "      <td>하지만 슬픈 일들이 그녀의 행복을 질시하고 있었다.\\n평생 고생만 한 어머니를 백혈...</td>\n",
       "      <td>오싱이 결혼한 사람은 누구인가?</td>\n",
       "      <td>mrc-1-003958</td>\n",
       "      <td>{'answer_start': [540], 'text': ['아가씨']}</td>\n",
       "      <td>10426</td>\n",
       "      <td>3958</td>\n",
       "    </tr>\n",
       "  </tbody>\n",
       "</table>\n",
       "</div>"
      ],
      "text/plain": [
       "     title                                            context  \\\n",
       "0    미국 상원  미국 상의원 또는 미국 상원(United States Senate)은 양원제인 미국...   \n",
       "1  계사명 사리구  동아대학교박물관에서 소장하고 있는 계사명 사리구는 총 4개의 용기로 구성된 조선후기...   \n",
       "2  계사명 사리구  동아대학교박물관에서 소장하고 있는 계사명 사리구는 총 4개의 용기로 구성된 조선후기...   \n",
       "3       오싱  하지만 슬픈 일들이 그녀의 행복을 질시하고 있었다.\\n평생 고생만 한 어머니를 백혈...   \n",
       "4       오싱  하지만 슬픈 일들이 그녀의 행복을 질시하고 있었다.\\n평생 고생만 한 어머니를 백혈...   \n",
       "\n",
       "                          question            id  \\\n",
       "0           상원의원은 무엇을 파면할 권한이 있는가?  mrc-1-003954   \n",
       "1                  계사명 사리가 출토된 곳은?  mrc-1-003955   \n",
       "2                  계사명 사리가 출토된 곳은?  mrc-1-003956   \n",
       "3  1950년대 필리핀에서 사망한 큰아들의 이름은 무엇인가?  mrc-1-003957   \n",
       "4                오싱이 결혼한 사람은 누구인가?  mrc-1-003958   \n",
       "\n",
       "                                    answers  document_id  __index_level_0__  \n",
       "0  {'answer_start': [268], 'text': ['공무원']}        18293               3954  \n",
       "1   {'answer_start': [62], 'text': ['웅촌면']}        47334               3955  \n",
       "2   {'answer_start': [58], 'text': ['울주군']}        47334               3956  \n",
       "3   {'answer_start': [64], 'text': ['가가야']}        10426               3957  \n",
       "4  {'answer_start': [540], 'text': ['아가씨']}        10426               3958  "
      ]
     },
     "execution_count": 128,
     "metadata": {},
     "output_type": "execute_result"
    }
   ],
   "source": [
    "new_dataset.head()"
   ]
  },
  {
   "cell_type": "code",
   "execution_count": 130,
   "metadata": {},
   "outputs": [],
   "source": [
    "total_dataset = pd.concat([train_dataset, new_dataset])"
   ]
  },
  {
   "cell_type": "code",
   "execution_count": 86,
   "metadata": {},
   "outputs": [
    {
     "data": {
      "text/html": [
       "<div>\n",
       "<style scoped>\n",
       "    .dataframe tbody tr th:only-of-type {\n",
       "        vertical-align: middle;\n",
       "    }\n",
       "\n",
       "    .dataframe tbody tr th {\n",
       "        vertical-align: top;\n",
       "    }\n",
       "\n",
       "    .dataframe thead th {\n",
       "        text-align: right;\n",
       "    }\n",
       "</style>\n",
       "<table border=\"1\" class=\"dataframe\">\n",
       "  <thead>\n",
       "    <tr style=\"text-align: right;\">\n",
       "      <th></th>\n",
       "      <th>title</th>\n",
       "      <th>context</th>\n",
       "      <th>question</th>\n",
       "      <th>id</th>\n",
       "      <th>answers</th>\n",
       "      <th>document_id</th>\n",
       "      <th>__index_level_0__</th>\n",
       "    </tr>\n",
       "  </thead>\n",
       "  <tbody>\n",
       "    <tr>\n",
       "      <th>0</th>\n",
       "      <td>미국 상원</td>\n",
       "      <td>미국 상의원 또는 미국 상원(United States Senate)은 양원제인 미국...</td>\n",
       "      <td>대통령을 포함한 미국의 행정부 견제권을 갖는 국가 기관은?</td>\n",
       "      <td>mrc-1-000067</td>\n",
       "      <td>{'answer_start': [235], 'text': ['하원']}</td>\n",
       "      <td>18293</td>\n",
       "      <td>42</td>\n",
       "    </tr>\n",
       "    <tr>\n",
       "      <th>1</th>\n",
       "      <td>인사조직관리</td>\n",
       "      <td>'근대적 경영학' 또는 '고전적 경영학'에서 현대적 경영학으로 전환되는 시기는 19...</td>\n",
       "      <td>현대적 인사조직관리의 시발점이 된 책은?</td>\n",
       "      <td>mrc-0-004397</td>\n",
       "      <td>{'answer_start': [212], 'text': ['《경영의 실제》']}</td>\n",
       "      <td>51638</td>\n",
       "      <td>2873</td>\n",
       "    </tr>\n",
       "    <tr>\n",
       "      <th>2</th>\n",
       "      <td>강희제</td>\n",
       "      <td>강희제는 강화된 황권으로 거의 황제 중심의 독단적으로 나라를 이끌어 갔기에 자칫 전...</td>\n",
       "      <td>강희제가 1717년에 쓴 글은 누구를 위해 쓰여졌는가?</td>\n",
       "      <td>mrc-1-000362</td>\n",
       "      <td>{'answer_start': [510], 'text': ['백성']}</td>\n",
       "      <td>5028</td>\n",
       "      <td>230</td>\n",
       "    </tr>\n",
       "    <tr>\n",
       "      <th>3</th>\n",
       "      <td>금동삼존불감</td>\n",
       "      <td>불상을 모시기 위해 나무나 돌, 쇠 등을 깎아 일반적인 건축물보다 작은 규모로 만든...</td>\n",
       "      <td>11~12세기에 제작된 본존불은 보통 어떤 나라의 특징이 전파되었나요?</td>\n",
       "      <td>mrc-0-001510</td>\n",
       "      <td>{'answer_start': [625], 'text': ['중국']}</td>\n",
       "      <td>34146</td>\n",
       "      <td>992</td>\n",
       "    </tr>\n",
       "    <tr>\n",
       "      <th>4</th>\n",
       "      <td>계사명 사리구</td>\n",
       "      <td>동아대학교박물관에서 소장하고 있는 계사명 사리구는 총 4개의 용기로 구성된 조선후기...</td>\n",
       "      <td>명문이 적힌 유물을 구성하는 그릇의 총 개수는?</td>\n",
       "      <td>mrc-0-000823</td>\n",
       "      <td>{'answer_start': [30], 'text': ['4개']}</td>\n",
       "      <td>47334</td>\n",
       "      <td>548</td>\n",
       "    </tr>\n",
       "  </tbody>\n",
       "</table>\n",
       "</div>"
      ],
      "text/plain": [
       "     title                                            context  \\\n",
       "0    미국 상원  미국 상의원 또는 미국 상원(United States Senate)은 양원제인 미국...   \n",
       "1   인사조직관리  '근대적 경영학' 또는 '고전적 경영학'에서 현대적 경영학으로 전환되는 시기는 19...   \n",
       "2      강희제  강희제는 강화된 황권으로 거의 황제 중심의 독단적으로 나라를 이끌어 갔기에 자칫 전...   \n",
       "3   금동삼존불감  불상을 모시기 위해 나무나 돌, 쇠 등을 깎아 일반적인 건축물보다 작은 규모로 만든...   \n",
       "4  계사명 사리구  동아대학교박물관에서 소장하고 있는 계사명 사리구는 총 4개의 용기로 구성된 조선후기...   \n",
       "\n",
       "                                  question            id  \\\n",
       "0         대통령을 포함한 미국의 행정부 견제권을 갖는 국가 기관은?  mrc-1-000067   \n",
       "1                   현대적 인사조직관리의 시발점이 된 책은?  mrc-0-004397   \n",
       "2           강희제가 1717년에 쓴 글은 누구를 위해 쓰여졌는가?  mrc-1-000362   \n",
       "3  11~12세기에 제작된 본존불은 보통 어떤 나라의 특징이 전파되었나요?  mrc-0-001510   \n",
       "4               명문이 적힌 유물을 구성하는 그릇의 총 개수는?  mrc-0-000823   \n",
       "\n",
       "                                         answers  document_id  \\\n",
       "0        {'answer_start': [235], 'text': ['하원']}        18293   \n",
       "1  {'answer_start': [212], 'text': ['《경영의 실제》']}        51638   \n",
       "2        {'answer_start': [510], 'text': ['백성']}         5028   \n",
       "3        {'answer_start': [625], 'text': ['중국']}        34146   \n",
       "4         {'answer_start': [30], 'text': ['4개']}        47334   \n",
       "\n",
       "   __index_level_0__  \n",
       "0                 42  \n",
       "1               2873  \n",
       "2                230  \n",
       "3                992  \n",
       "4                548  "
      ]
     },
     "execution_count": 86,
     "metadata": {},
     "output_type": "execute_result"
    }
   ],
   "source": [
    "total_dataset.head()"
   ]
  },
  {
   "cell_type": "code",
   "execution_count": 131,
   "metadata": {},
   "outputs": [
    {
     "name": "stdout",
     "output_type": "stream",
     "text": [
      "generated dataset count : 3883\n",
      "train dataset count : 3952\n",
      "TOTAL dataset count : 7835\n"
     ]
    }
   ],
   "source": [
    "print(f\"generated dataset count : {len(new_dataset)}\")\n",
    "print(f\"train dataset count : {len(train_dataset)}\")\n",
    "print(f\"TOTAL dataset count : {len(total_dataset)}\")"
   ]
  },
  {
   "cell_type": "code",
   "execution_count": 132,
   "metadata": {},
   "outputs": [],
   "source": [
    "total_dataset.to_csv('QGaugmentation_dataset_v2.csv', index=False)"
   ]
  }
 ],
 "metadata": {
  "kernelspec": {
   "display_name": "base",
   "language": "python",
   "name": "python3"
  },
  "language_info": {
   "codemirror_mode": {
    "name": "ipython",
    "version": 3
   },
   "file_extension": ".py",
   "mimetype": "text/x-python",
   "name": "python",
   "nbconvert_exporter": "python",
   "pygments_lexer": "ipython3",
   "version": "3.8.15 (default, Nov 24 2022, 15:19:38) \n[GCC 11.2.0]"
  },
  "orig_nbformat": 4,
  "vscode": {
   "interpreter": {
    "hash": "d4d1e4263499bec80672ea0156c357c1ee493ec2b1c70f0acce89fc37c4a6abe"
   }
  }
 },
 "nbformat": 4,
 "nbformat_minor": 2
}
